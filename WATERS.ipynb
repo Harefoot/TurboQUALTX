{
 "cells": [
  {
   "cell_type": "code",
   "execution_count": 4,
   "metadata": {
    "collapsed": false
   },
   "outputs": [
    {
     "name": "stdout",
     "output_type": "stream",
     "text": [
      "5 result(s) found\n",
      "Pt 0: The centroid point is 37.7237542, -78.66557\n",
      "Pt 1: The centroid point is 37.7870868, -78.6947388\n",
      "Pt 2: The centroid point is 38.0943034, -78.4889008\n",
      "Pt 3: The centroid point is 36.6798584, -80.3795042\n",
      "Pt 4: The centroid point is 37.4184753, -79.1847475\n"
     ]
    }
   ],
   "source": [
    "#https://github.com/goodalljl/hydroinformatics_class/blob/master/Class21_NHDGeocoder.py\n",
    "from urllib2 import urlopen\n",
    "import json\n",
    "from pprint import pprint\n",
    "\n",
    "#input by user\n",
    "Name = \"Ivy Creek\"\n",
    "State = \"VA\"\n",
    "\n",
    "#build URL\n",
    "url = \"http://ofmpub.epa.gov/waters10/Name.Service?\" \\\n",
    "    + \"pFullText=\" + Name.replace(' ', '+') \\\n",
    "    + \"&pState=\" + State\n",
    "\n",
    "#load response into JSON object\n",
    "f = urlopen(url)\n",
    "response = json.loads(f.read().decode())\n",
    "\n",
    "#uncomment to see structure of response\n",
    "#pprint(response)\n",
    "\n",
    "#get lat and lon coordinates of centroid\n",
    "print(\"{} result(s) found\".format(len(response['output']['results'])))\n",
    "\n",
    "#there may be multiple responses if it is a common stream/river/waterbody name\n",
    "for i in range(0, len(response['output']['results'])):\n",
    "    coords = response['output']['results'][i]['gnis_centroid_geom']['coordinates']\n",
    "    lon = coords[0]\n",
    "    lat = coords[1]\n",
    "    print(\"Pt {}: The centroid point is {}, {}\".format(i, lat, lon))"
   ]
  },
  {
   "cell_type": "code",
   "execution_count": null,
   "metadata": {
    "collapsed": true
   },
   "outputs": [],
   "source": []
  }
 ],
 "metadata": {
  "kernelspec": {
   "display_name": "Python 2",
   "language": "python",
   "name": "python2"
  },
  "language_info": {
   "codemirror_mode": {
    "name": "ipython",
    "version": 2
   },
   "file_extension": ".py",
   "mimetype": "text/x-python",
   "name": "python",
   "nbconvert_exporter": "python",
   "pygments_lexer": "ipython2",
   "version": "2.7.11"
  }
 },
 "nbformat": 4,
 "nbformat_minor": 0
}
