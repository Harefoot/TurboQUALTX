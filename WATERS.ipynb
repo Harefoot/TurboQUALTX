{
 "cells": [
  {
   "cell_type": "code",
   "execution_count": 2,
   "metadata": {
    "collapsed": false
   },
   "outputs": [
    {
     "ename": "ImportError",
     "evalue": "No module named request",
     "output_type": "error",
     "traceback": [
      "\u001b[1;31m---------------------------------------------------------------------------\u001b[0m",
      "\u001b[1;31mImportError\u001b[0m                               Traceback (most recent call last)",
      "\u001b[1;32m<ipython-input-2-5778c32852f6>\u001b[0m in \u001b[0;36m<module>\u001b[1;34m()\u001b[0m\n\u001b[0;32m      1\u001b[0m \u001b[1;31m#https://github.com/goodalljl/hydroinformatics_class/blob/master/Class21_NHDGeocoder.py\u001b[0m\u001b[1;33m\u001b[0m\u001b[1;33m\u001b[0m\u001b[0m\n\u001b[1;32m----> 2\u001b[1;33m \u001b[1;32mfrom\u001b[0m \u001b[0murllib\u001b[0m\u001b[1;33m.\u001b[0m\u001b[0mrequest\u001b[0m \u001b[1;32mimport\u001b[0m \u001b[0murlopen\u001b[0m\u001b[1;33m\u001b[0m\u001b[0m\n\u001b[0m\u001b[0;32m      3\u001b[0m \u001b[1;32mimport\u001b[0m \u001b[0mjson\u001b[0m\u001b[1;33m\u001b[0m\u001b[0m\n\u001b[0;32m      4\u001b[0m \u001b[1;32mfrom\u001b[0m \u001b[0mpprint\u001b[0m \u001b[1;32mimport\u001b[0m \u001b[0mpprint\u001b[0m\u001b[1;33m\u001b[0m\u001b[0m\n\u001b[0;32m      5\u001b[0m \u001b[1;33m\u001b[0m\u001b[0m\n",
      "\u001b[1;31mImportError\u001b[0m: No module named request"
     ]
    }
   ],
   "source": [
    "#https://github.com/goodalljl/hydroinformatics_class/blob/master/Class21_NHDGeocoder.py\n",
    "from urllib.request import urlopen\n",
    "import json\n",
    "from pprint import pprint\n",
    "\n",
    "#input by user\n",
    "Name = \"Ivy Creek\"\n",
    "State = \"VA\"\n",
    "\n",
    "#build URL\n",
    "url = \"http://ofmpub.epa.gov/waters10/Name.Service?\" \\\n",
    "    + \"pFullText=\" + Name.replace(' ', '+') \\\n",
    "    + \"&pFullTextRegex=\" \\\n",
    "    + \"&pBasename=\" \\\n",
    "    + \"&pBasenameRegex=\" \\\n",
    "    + \"&pHydrography=\" \\\n",
    "    + \"&pHydrographyRegex=\" \\\n",
    "    + \"&pDirectional=\" \\\n",
    "    + \"&pDirectionalRegex=\" \\\n",
    "    + \"&pOperator=EQ\" \\\n",
    "    + \"&pQueryLimit=\" \\\n",
    "    + \"&pJWThreshold=90\" \\\n",
    "    + \"&pResolution=3\" \\\n",
    "    + \"&pSourceTable=\" \\\n",
    "    + \"&pState=\" + State \\\n",
    "    + \"&pStateMod=%2C\" \\\n",
    "    + \"&pCountyFips5=\" \\\n",
    "    + \"&pCountyFips5Mod=%2C\" \\\n",
    "    + \"&pSubbasin=\" \\\n",
    "    + \"&pSubbasinMod=%2C\" \\\n",
    "    + \"&pGnisClass=\" \\\n",
    "    + \"&pGnisClassMod=%2C\" \\\n",
    "    + \"&pFtype=\" \\\n",
    "    + \"&pBreakBySubbasin=false\" \\\n",
    "    + \"&pBreakByFcode=false\" \\\n",
    "    + \"&optNHDPlusDataset=2.1\" \\\n",
    "    + \"&optCache=1415283785917\" \\\n",
    "    + \"&optJSONPCallback=\" \\\n",
    "\n",
    "#load response into JSON object\n",
    "f = urlopen(url)\n",
    "response = json.loads(f.read().decode())\n",
    "\n",
    "#uncomment to see structure of response\n",
    "#pprint(response)\n",
    "\n",
    "#get lat and lon coordinates of centroid\n",
    "print(\"{} result(s) found\".format(len(response['output']['results'])))\n",
    "\n",
    "#there may be multiple responses if it is a common stream/river/waterbody name\n",
    "lats = []\n",
    "lons = []\n",
    "for i in range(0, len(response['output']['results'])):\n",
    "    coords = response['output']['results'][i]['gnis_centroid_geom']['coordinates']\n",
    "    lon = coords[0]\n",
    "    lat = coords[1]\n",
    "    lats.append(lat)\n",
    "    lons.append(lon)\n",
    "    print(\"Pt {}: The centroid point is {}, {}\".format(i, lat, lon))"
   ]
  }
 ],
 "metadata": {
  "kernelspec": {
   "display_name": "Python 2",
   "language": "python",
   "name": "python2"
  },
  "language_info": {
   "codemirror_mode": {
    "name": "ipython",
    "version": 2
   },
   "file_extension": ".py",
   "mimetype": "text/x-python",
   "name": "python",
   "nbconvert_exporter": "python",
   "pygments_lexer": "ipython2",
   "version": "2.7.11"
  }
 },
 "nbformat": 4,
 "nbformat_minor": 0
}
